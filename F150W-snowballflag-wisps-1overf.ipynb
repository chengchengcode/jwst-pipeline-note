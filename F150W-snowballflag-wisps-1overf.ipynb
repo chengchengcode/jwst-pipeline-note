{
 "cells": [
  {
   "cell_type": "code",
   "execution_count": null,
   "metadata": {},
   "outputs": [],
   "source": [
    "import os\n",
    "import numpy as np\n",
    "import asdf\n",
    "import json\n",
    "\n",
    "from glob import glob\n",
    "\n",
    "\n",
    "# JWST pipeline-related modules\n",
    "from jwst.datamodels import dqflags\n",
    "\n",
    "# The entire jwst pipeline\n",
    "from jwst.pipeline import calwebb_detector1\n",
    "from jwst.pipeline import calwebb_image2\n",
    "from jwst.pipeline import calwebb_image3\n",
    "from jwst import datamodels\n",
    "\n",
    "# importing an individual pipeline step\n",
    "from jwst.skymatch import SkyMatchStep\n",
    "\n",
    "# Custom scripts for use later\n",
    "\n",
    "import matplotlib.pyplot as plt\n",
    "from matplotlib import rcParams\n",
    "\n",
    "# Use this version for non-interactive plots (easier scrolling of the notebook)\n",
    "#%matplotlib inline\n",
    "\n",
    "# Use this version if you want interactive plots\n",
    "#%matplotlib notebook\n",
    "\n",
    "from astropy.io import fits\n",
    "\n",
    "%matplotlib inline\n",
    "\n",
    "# These gymnastics are needed to make the sizes of the figures\n",
    "# be the same in both the inline and notebook versions\n",
    "#%config InlineBackend.print_figure_kwargs = {'bbox_inches': None}\n",
    "\n",
    "# You may want to change the following configurations to customize \n",
    "# figure sizes and resolutions\n",
    "rcParams['figure.figsize'] = [11,8]\n",
    "rcParams['figure.dpi'] = 80\n",
    "rcParams['savefig.dpi'] = 80\n",
    "\n",
    "from jwst.associations.asn_from_list import asn_from_list\n",
    "from jwst.associations.lib.rules_level3_base import DMS_Level3_Base\n"
   ]
  },
  {
   "cell_type": "code",
   "execution_count": null,
   "metadata": {},
   "outputs": [],
   "source": [
    "os.environ['CRDS_PATH'] = '/Volumes/T7-RED/crds_cache/' \n",
    "os.environ['CRDS_SERVER_URL'] = 'https://jwst-crds.stsci.edu'\n"
   ]
  },
  {
   "cell_type": "code",
   "execution_count": null,
   "metadata": {},
   "outputs": [],
   "source": [
    "import jwst\n",
    "print(jwst.__version__)"
   ]
  },
  {
   "cell_type": "code",
   "execution_count": null,
   "metadata": {},
   "outputs": [],
   "source": [
    "try:\n",
    "    print(os.environ['CRDS_PATH'])\n",
    "except KeyError:\n",
    "    print('CRDS_PATH environment variable not set!')\n",
    "    \n",
    "try:\n",
    "    print(os.environ['CRDS_SERVER_URL'])\n",
    "except KeyError:\n",
    "    print('CRDS_SERVER_URL environment variable not set!')\n",
    "\n",
    "try:\n",
    "    print(os.environ['CRDS_CONTEXT'])\n",
    "except KeyError:\n",
    "    print('CRDS_CONTEXT environment variable not set!')"
   ]
  },
  {
   "cell_type": "code",
   "execution_count": null,
   "metadata": {},
   "outputs": [],
   "source": [
    "file_id = 'F150W'\n",
    "\n",
    "proposalID = '2736'\n",
    "\n",
    "output_dir = file_id+'-calibrated'\n",
    "\n",
    "print(output_dir)\n",
    "\n",
    "os.system('mkdir -p {}'.format(output_dir))"
   ]
  },
  {
   "cell_type": "markdown",
   "metadata": {},
   "source": [
    "# Stage1\n"
   ]
  },
  {
   "cell_type": "code",
   "execution_count": null,
   "metadata": {},
   "outputs": [],
   "source": [
    "#download the .py files from https://github.com/chriswillott/jwst\n",
    "import checkifstar\n",
    "from dosnowballflags import snowballflags\n"
   ]
  },
  {
   "cell_type": "code",
   "execution_count": null,
   "metadata": {},
   "outputs": [],
   "source": [
    "uncal_file = glob('JWST/*/*uncal.fits')\n",
    "uncal_file"
   ]
  },
  {
   "cell_type": "code",
   "execution_count": null,
   "metadata": {},
   "outputs": [],
   "source": [
    "uncal_file = glob('JWST/*/*uncal.fits')\n",
    "uncal_file\n",
    "\n",
    "for uncal in uncal_file:\n",
    "\n",
    "# save the jump.fits\n",
    "\n",
    "    detector1 = calwebb_detector1.Detector1Pipeline()\n",
    "    detector1.output_dir = '/'.join(uncal.split('/')[0:-1])\n",
    "    detector1.save_results = True\n",
    "\n",
    "    detector1.ipc.skip = True\n",
    "\n",
    "    detector1.jump.save_results = True\n",
    "\n",
    "    detector1.ramp_fit.skip = True\n",
    "    detector1.gain_scale.skip = True\n",
    "    \n",
    "    run_output = detector1.run(uncal)\n",
    "\n",
    "# snowball flag to the jump.fits\n",
    "\n",
    "    jumpdirfile = uncal.replace('uncal','jump')\n",
    "    imagingmode = True\n",
    "    filtername = fits.getheader(uncal)['FILTER']\n",
    "    npixfind = 50\n",
    "    satpixradius=3\n",
    "    halofactorradius=2\n",
    "\n",
    "    snowballflags(jumpdirfile,filtername,npixfind,satpixradius,halofactorradius,imagingmode)\n",
    "\n",
    "# run the last two step of the pipeline from jump.fits, and save the rate.fits\n",
    "    detector1 = calwebb_detector1.Detector1Pipeline()\n",
    "    detector1.output_dir = output_dir\n",
    "    detector1.save_results = True\n",
    "\n",
    "    detector1.group_scale.skip = True\n",
    "    detector1.dq_init.skip = True\n",
    "    detector1.saturation.skip = True\n",
    "    detector1.ipc.skip = True\n",
    "    detector1.superbias.skip = True\n",
    "    detector1.refpix.skip = True\n",
    "    detector1.rscd.skip = True\n",
    "    detector1.firstframe.skip = True\n",
    "    detector1.lastframe.skip = True\n",
    "    detector1.linearity.skip = True\n",
    "    detector1.dark_current.skip = True\n",
    "    detector1.reset.skip = True\n",
    "    detector1.persistence.skip = True\n",
    "    detector1.jump.skip = True\n",
    "\n",
    "    detector1.ramp_fit.skip = False\n",
    "    detector1.gain_scale.skip = False\n",
    "\n",
    "    run_output = detector1.run(jumpdirfile)\n",
    "\n",
    "#    break\n",
    "\n",
    "\n"
   ]
  },
  {
   "cell_type": "markdown",
   "metadata": {},
   "source": [
    "# Stage2\n"
   ]
  },
  {
   "cell_type": "code",
   "execution_count": null,
   "metadata": {},
   "outputs": [],
   "source": [
    "rates_file = glob(file_id+'-calibrated/*rate.fits')\n",
    "rates_file"
   ]
  },
  {
   "cell_type": "markdown",
   "metadata": {},
   "source": [
    "# WISPS subtraction"
   ]
  },
  {
   "cell_type": "code",
   "execution_count": null,
   "metadata": {},
   "outputs": [],
   "source": [
    "#!/usr/bin/env python\n",
    "import numpy as np\n",
    "import os\n",
    "import re\n",
    "import sys\n",
    "import astropy.io.fits as fits\n",
    "from glob import glob\n",
    "import inspect\n",
    "#\n",
    "#==============================================================================\n",
    "# Wisps are seen in F150W, F150W2, F200W, F210M\n",
    "# Status unknown in F162M, F182M\n",
    "# SCAs presenting significant wisps : A3, B3, B4\n",
    "\n",
    "        \n",
    "    \n"
   ]
  },
  {
   "cell_type": "code",
   "execution_count": null,
   "metadata": {},
   "outputs": [],
   "source": [
    "\n",
    "template_dir  = '../../wisp_templates/'\n",
    "template = dict([\n",
    "    ('NRCA3_F150W', 'wisps_nrca3_F150W.fits'),\n",
    "    ('NRCA3_F150W2','wisps_nrca3_F150W2.fits'),\n",
    "    ('NRCA3_F200W', 'wisps_nrca3_F200W.fits'),\n",
    "    ('NRCA3_F210M', 'wisps_nrca3_F210M.fits'),\n",
    "    ('NRCB3_F150W', 'wisps_nrcb3_F150W.fits'),\n",
    "    ('NRCB3_F150W2','wisps_nrcb3_F150W2.fits'),\n",
    "    ('NRCB3_F200W', 'wisps_nrcb3_F200W.fits'),\n",
    "    ('NRCB3_F210M', 'wisps_nrcb3_F210M.fits'),\n",
    "    ('NRCB4_F150W', 'wisps_nrcb4_F150W.fits'),\n",
    "    ('NRCB4_F150W2','wisps_nrcb4_F150W2.fits'),\n",
    "    ('NRCB4_F200W', 'wisps_nrcb4_F200W.fits'),\n",
    "    ('NRCB4_F210M', 'wisps_nrcb4_F210M.fits')\n",
    "    ])\n",
    "    \n",
    "#\n",
    "debug  = 0\n",
    "rate_dir = file_id+'-calibrated/'\n",
    "files = sorted(glob(rate_dir+'*rate.fits'))\n",
    "print(files)\n",
    "\n",
    "for index in range(len(files)):\n",
    "    file = files[index]\n",
    "    hdulist = fits.open(file)\n",
    "    nhdu  = len(hdulist)\n",
    "    if(debug == 1):\n",
    "        hdulist.info()\n",
    "\n",
    "    for ii in range(0, nhdu):\n",
    "        header = hdulist[ii].header\n",
    "        if('DETECTOR' in header):\n",
    "            detector = header['detector']\n",
    "        if('FILTER' in header):\n",
    "            filter = header['FILTER']\n",
    "#    hdulist.close()\n",
    "            \n",
    "    if(detector != 'NRCA3' and detector != 'NRCB3' and detector != 'NRCB4'):\n",
    "        continue\n",
    "\n",
    "#\n",
    "# The very few tests carried out in commissioning showed that a\n",
    "# plain subtraction was effective. If this is not the case, it may\n",
    "# be necessary toscale the template intensity to determine \n",
    "# an optimal subtractionlevel\n",
    "#\n",
    "    if(filter == 'F150W' or filter == 'F150W2' or \\\n",
    "       filter == 'F200W' or filter == 'F210M'):\n",
    "\n",
    "        os.system('cp ' + file + ' ' + file.replace('rate.fits','rate_orig.fits'))\n",
    "\n",
    "        key = detector+'_'+filter\n",
    "        print(\"filter \", filter, 'detector ', detector)\n",
    "        wisp = template_dir+template[key]\n",
    "        print(\"wisp \", wisp)\n",
    "        median = fits.getdata(wisp,ext=0)\n",
    "        corrected = hdulist[1].data - median\n",
    "\n",
    "        corrected[corrected != corrected] = 0\n",
    "\n",
    "        hdulist[1].data = corrected\n",
    "        hdulist[1].header['history'] = 'WISPS correction applied'\n",
    "        new_file = re.sub('rate.fits','rate.fits',file)\n",
    "        print(\"org file\", file.replace('rate.fits','rate_orig.fits'))\n",
    "        print(\"new file\", new_file)\n",
    "        hdulist.writeto(new_file,overwrite=True)\n",
    "\n",
    "#        os.system('cp ' + new_file + ' ' + new_file.replace('corr','corr_rate'))\n",
    "\n",
    "    hdulist.close()\n",
    "\n",
    "#    break\n",
    "\n"
   ]
  },
  {
   "cell_type": "code",
   "execution_count": null,
   "metadata": {},
   "outputs": [],
   "source": []
  },
  {
   "cell_type": "code",
   "execution_count": null,
   "metadata": {},
   "outputs": [],
   "source": []
  },
  {
   "cell_type": "code",
   "execution_count": null,
   "metadata": {},
   "outputs": [],
   "source": []
  },
  {
   "cell_type": "code",
   "execution_count": null,
   "metadata": {},
   "outputs": [],
   "source": [
    "rates_file = glob(file_id+'-calibrated/*rate.fits')\n",
    "\n",
    "for rate in rates_file:\n",
    "    # Create an instance of the pipeline class\n",
    "    image2 = calwebb_image2.Image2Pipeline()\n",
    "\n",
    "    # Set some parameters that pertain to the\n",
    "    # entire pipeline\n",
    "    image2.output_dir = output_dir\n",
    "    image2.save_results = True\n",
    "    # turn off the ResampleStep, comment out to produce the \n",
    "    # individual rectified *_i2d.fits for quick-look checks\n",
    "    image2.resample.skip = True\n",
    "\n",
    "    # Call the run() method\n",
    "    image2.run(rate)"
   ]
  },
  {
   "cell_type": "code",
   "execution_count": null,
   "metadata": {},
   "outputs": [],
   "source": [
    "from plotimages import plot_images\n",
    "from image1overf import sub1fimaging\n",
    "from astropy.io import fits"
   ]
  },
  {
   "cell_type": "code",
   "execution_count": null,
   "metadata": {},
   "outputs": [],
   "source": [
    "calfiles = glob(output_dir+'/jw*_cal.fits')\n",
    "calfiles"
   ]
  },
  {
   "cell_type": "code",
   "execution_count": null,
   "metadata": {},
   "outputs": [],
   "source": [
    "output_dir"
   ]
  },
  {
   "cell_type": "code",
   "execution_count": null,
   "metadata": {},
   "outputs": [],
   "source": [
    "for cal2file in calfiles:\n",
    "    cal21overffile = cal2file.replace('_cal.fits','_cal_1overf.fits')\n",
    "    print ('Running 1/f correction on {} to produce {}'.format(cal2file,cal21overffile))\n",
    "    with fits.open(cal2file) as cal2hdulist:\n",
    "        if cal2hdulist['PRIMARY'].header['SUBARRAY']=='FULL' or cal2hdulist['PRIMARY'].header['SUBARRAY']=='SUB256':\n",
    "            sigma_bgmask=3.0\n",
    "            sigma_1fmask=2.0\n",
    "            splitamps=False   #Set to True only in a sparse field so each amplifier will be fit separately. \n",
    "            correcteddata = sub1fimaging(cal2hdulist,sigma_bgmask,sigma_1fmask,splitamps)\n",
    "            if cal2hdulist['PRIMARY'].header['SUBARRAY']=='FULL':\n",
    "                cal2hdulist['SCI'].data[4:2044,4:2044] = correcteddata  \n",
    "            elif cal2hdulist['PRIMARY'].header['SUBARRAY']=='SUB256':\n",
    "                cal2hdulist['SCI'].data[:252,:252] = correcteddata\n",
    "            cal2hdulist.writeto(cal21overffile, overwrite=True)"
   ]
  },
  {
   "cell_type": "code",
   "execution_count": null,
   "metadata": {},
   "outputs": [],
   "source": [
    "plot_images(cal21overffile,\n",
    "            cal2file, \n",
    "            title1='1/f corr', title2='cal')"
   ]
  },
  {
   "cell_type": "code",
   "execution_count": null,
   "metadata": {},
   "outputs": [],
   "source": [
    "'JWST-'+file_id"
   ]
  },
  {
   "cell_type": "markdown",
   "metadata": {},
   "source": [
    "# Stage 3"
   ]
  },
  {
   "cell_type": "code",
   "execution_count": null,
   "metadata": {},
   "outputs": [],
   "source": [
    "calfiles = glob(output_dir+'/jw*_cal_1overf.fits')\n",
    "asn = asn_from_list(calfiles,rule=DMS_Level3_Base, product_name='test')\n",
    "asn"
   ]
  },
  {
   "cell_type": "code",
   "execution_count": null,
   "metadata": {},
   "outputs": [],
   "source": [
    "json_stage3 = 'JWST-'+file_id+'-stage3.json'\n",
    "with open(json_stage3, 'w') as outfile:\n",
    "    name,serialized = asn.dump(format='json') \n",
    "    outfile.write(serialized)"
   ]
  },
  {
   "cell_type": "code",
   "execution_count": null,
   "metadata": {},
   "outputs": [],
   "source": [
    "image3 = calwebb_image3.Image3Pipeline()\n",
    "\n",
    "# Set some parameters that pertain to the entire pipeline\n",
    "image3.output_dir = file_id+'-calibrated/'\n",
    "image3.output_file = file_id+'_i2d.fits'\n",
    "\n",
    "image3.save_results = True\n",
    "# Set some parameters that pertain to some of the individual steps\n",
    "\n",
    "image3.tweakreg.skip = False \n",
    "#image3.tweakreg.backend == 'sextractor'\n",
    "image3.tweakreg.align_to_gaia == True\n",
    "# Turn off SkyMatchStep\n",
    "\n",
    "image3.skymatch.subtract = True\n",
    "image3.skymatch.skip = False\n",
    "# Set the ratio of input to output pixels to create an output mosaic \n",
    "# on a 0.015\"/pixel scale\n",
    "\n",
    "image3.resample.pixel_scale = 0.03\n",
    "# Call the run() method\n",
    "\n",
    "image3.run(json_stage3)\n"
   ]
  },
  {
   "cell_type": "code",
   "execution_count": null,
   "metadata": {},
   "outputs": [],
   "source": []
  }
 ],
 "metadata": {
  "kernelspec": {
   "display_name": "Python 3.9.1 64-bit",
   "language": "python",
   "name": "python3"
  },
  "language_info": {
   "codemirror_mode": {
    "name": "ipython",
    "version": 3
   },
   "file_extension": ".py",
   "mimetype": "text/x-python",
   "name": "python",
   "nbconvert_exporter": "python",
   "pygments_lexer": "ipython3",
   "version": "3.9.1"
  },
  "orig_nbformat": 4,
  "vscode": {
   "interpreter": {
    "hash": "397704579725e15f5c7cb49fe5f0341eb7531c82d19f2c29d197e8b64ab5776b"
   }
  }
 },
 "nbformat": 4,
 "nbformat_minor": 2
}
